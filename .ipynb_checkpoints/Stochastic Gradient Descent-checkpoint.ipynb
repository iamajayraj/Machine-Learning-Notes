{
 "cells": [
  {
   "cell_type": "code",
   "execution_count": 3,
   "id": "01a16159",
   "metadata": {},
   "outputs": [],
   "source": [
    "from sklearn.linear_model import LinearRegression\n",
    "import numpy as np\n",
    "from sklearn.datasets import load_diabetes\n",
    "from sklearn.metrics import r2_score\n",
    "from sklearn.model_selection import train_test_split"
   ]
  },
  {
   "cell_type": "code",
   "execution_count": 6,
   "id": "70a39c24",
   "metadata": {},
   "outputs": [],
   "source": [
    "x,y=load_diabetes(return_X_y=True)"
   ]
  },
  {
   "cell_type": "code",
   "execution_count": 9,
   "id": "0dfb7f05",
   "metadata": {},
   "outputs": [
    {
     "data": {
      "text/plain": [
       "(442, 10)"
      ]
     },
     "execution_count": 9,
     "metadata": {},
     "output_type": "execute_result"
    }
   ],
   "source": [
    "x.shape"
   ]
  },
  {
   "cell_type": "code",
   "execution_count": 10,
   "id": "db7099cb",
   "metadata": {},
   "outputs": [
    {
     "data": {
      "text/plain": [
       "(442,)"
      ]
     },
     "execution_count": 10,
     "metadata": {},
     "output_type": "execute_result"
    }
   ],
   "source": [
    "y.shape"
   ]
  },
  {
   "cell_type": "code",
   "execution_count": 11,
   "id": "e7452ce2",
   "metadata": {},
   "outputs": [],
   "source": [
    "x_train,x_test,y_train,y_test = train_test_split(x,y,test_size=0.2,random_state=2)"
   ]
  },
  {
   "cell_type": "code",
   "execution_count": 12,
   "id": "d2894132",
   "metadata": {},
   "outputs": [
    {
     "name": "stdout",
     "output_type": "stream",
     "text": [
      "(353, 10)\n",
      "(89, 10)\n",
      "(353,)\n",
      "(89,)\n"
     ]
    }
   ],
   "source": [
    "print(x_train.shape)\n",
    "print(x_test.shape)\n",
    "print(y_train.shape)\n",
    "print(y_test.shape)"
   ]
  },
  {
   "cell_type": "code",
   "execution_count": 13,
   "id": "6d23d06f",
   "metadata": {},
   "outputs": [],
   "source": [
    "reg=LinearRegression()"
   ]
  },
  {
   "cell_type": "code",
   "execution_count": 14,
   "id": "696d8779",
   "metadata": {},
   "outputs": [
    {
     "data": {
      "text/plain": [
       "LinearRegression()"
      ]
     },
     "execution_count": 14,
     "metadata": {},
     "output_type": "execute_result"
    }
   ],
   "source": [
    "reg.fit(x_train,y_train)"
   ]
  },
  {
   "cell_type": "code",
   "execution_count": 15,
   "id": "42cdf92e",
   "metadata": {},
   "outputs": [
    {
     "data": {
      "text/plain": [
       "array([154.1235067 , 204.81721599, 124.92988001, 106.09339576,\n",
       "       258.53035681, 256.32953702, 118.75258786, 119.52147402,\n",
       "       101.50717468, 190.54137158, 141.70360267, 172.51631204,\n",
       "       174.34089304, 134.81184017, 294.13950798,  94.11403289,\n",
       "       211.97052873, 156.49984762, 134.20709632, 119.62534726,\n",
       "       148.88045343, 165.00378118, 151.09977307, 176.03719872,\n",
       "       133.27651748, 221.29531227, 197.17482787,  96.15923158,\n",
       "        50.26531577, 230.48342249, 242.06266394, 114.1153262 ,\n",
       "        67.0785352 ,  94.53179042, 201.21593262, 167.05306138,\n",
       "       159.87838519, 192.78601513, 114.49291816, 233.4825497 ,\n",
       "       140.82309666, 121.06814332, 192.27431013, 191.13157307,\n",
       "       179.1698153 , 148.35140027, 163.47610288, 276.81203359,\n",
       "       100.17813072, 164.11265163, 255.81074398, 136.94979051,\n",
       "       152.37507828, 107.92662528, 194.21661635,  77.35015426,\n",
       "       118.50951725,  68.38527563, 154.29094022, 162.48905632,\n",
       "       168.36590928, 156.8764705 ,  97.13958436, 238.17121803,\n",
       "       145.46093854, 117.65678691, 168.88768692, 198.38893625,\n",
       "       118.24408332, 124.64831033, 223.17842907, 200.62634508,\n",
       "       129.54591274, 158.1553552 , 154.33593871, 114.47109854,\n",
       "        70.4524892 ,  76.39237963, 172.41319558,  80.56189628,\n",
       "        80.27309695,  89.46135201, 186.21265361, 275.46607679,\n",
       "       208.26816596, 143.7962915 , 291.28438095, 206.32601303,\n",
       "        94.22801028])"
      ]
     },
     "execution_count": 15,
     "metadata": {},
     "output_type": "execute_result"
    }
   ],
   "source": [
    "y_pred=reg.predict(x_test)\n",
    "y_pred"
   ]
  },
  {
   "cell_type": "code",
   "execution_count": 16,
   "id": "3188712f",
   "metadata": {},
   "outputs": [
    {
     "data": {
      "text/plain": [
       "0.4399387660024645"
      ]
     },
     "execution_count": 16,
     "metadata": {},
     "output_type": "execute_result"
    }
   ],
   "source": [
    "r2_score(y_test,y_pred)"
   ]
  },
  {
   "cell_type": "code",
   "execution_count": 17,
   "id": "e64ba3a9",
   "metadata": {},
   "outputs": [
    {
     "name": "stdout",
     "output_type": "stream",
     "text": [
      "151.88334520854633\n",
      "[  -9.16088483 -205.46225988  516.68462383  340.62734108 -895.54360867\n",
      "  561.21453306  153.88478595  126.73431596  861.12139955   52.41982836]\n"
     ]
    }
   ],
   "source": [
    "print(reg.intercept_)\n",
    "print(reg.coef_)"
   ]
  },
  {
   "cell_type": "markdown",
   "id": "5cb6ddd7",
   "metadata": {},
   "source": [
    "### Stochastic gradient descent from scratch"
   ]
  },
  {
   "cell_type": "code",
   "execution_count": 43,
   "id": "92886cbe",
   "metadata": {},
   "outputs": [],
   "source": [
    "class SGDRegressor:\n",
    "    \n",
    "    def __init__(self,epochs=50,lr=0.01):\n",
    "        \n",
    "        self.epochs=epochs\n",
    "        self.lr=lr\n",
    "        self.intercept_=None\n",
    "        self.coef_=None\n",
    "        \n",
    "    def fit(self,x_train,y_train):\n",
    "        \n",
    "        self.intercept_=0\n",
    "        self.coef_=np.ones(x_train.shape[1])\n",
    "        \n",
    "        for i in range(self.epochs):\n",
    "            for j in range(x_train.shape[0]):\n",
    "                idx=np.random.randint(0,x_train.shape[0])\n",
    "                \n",
    "                y_hat= np.dot(x_train[idx],self.coef_) + self.intercept_\n",
    "                \n",
    "                intercept_der= -2 * (y_train[idx] - y_hat)\n",
    "                self.intercept_= self.intercept_ -(self.lr * intercept_der)\n",
    "                \n",
    "                coef_der= -2 * np.dot((y_train[idx] - y_hat), x_train[idx])\n",
    "                self.coef_= self.coef_ - (self.lr * coef_der)\n",
    "                \n",
    "        print(self.intercept_, self.coef_)\n",
    "        \n",
    "        \n",
    "    def predict(self,x_test):\n",
    "        return np.dot(x_test,self.coef_) + self.intercept_"
   ]
  },
  {
   "cell_type": "code",
   "execution_count": 44,
   "id": "d8367278",
   "metadata": {},
   "outputs": [],
   "source": [
    "sgd=SGDRegressor()"
   ]
  },
  {
   "cell_type": "code",
   "execution_count": 45,
   "id": "26debf19",
   "metadata": {},
   "outputs": [
    {
     "name": "stdout",
     "output_type": "stream",
     "text": [
      "157.8386710537039 [  51.30412707  -70.70974718  360.38134243  251.55868363   17.14652881\n",
      "  -30.32241519 -171.44243447  129.06898414  321.50265317  124.87168865]\n"
     ]
    }
   ],
   "source": [
    "sgd.fit(x_train,y_train)"
   ]
  },
  {
   "cell_type": "code",
   "execution_count": 47,
   "id": "e7d7dceb",
   "metadata": {},
   "outputs": [
    {
     "data": {
      "text/plain": [
       "array([159.5960274 , 198.01040044, 145.09384079, 114.75817103,\n",
       "       250.59225917, 242.94230216, 113.40179235, 120.43787019,\n",
       "        99.20324247, 191.2168494 , 165.59778038, 178.1268071 ,\n",
       "       189.96854894, 155.97502953, 260.8687545 ,  98.56884692,\n",
       "       192.28371876, 145.27824633, 145.4531213 , 144.50658611,\n",
       "       139.41549019, 195.49447083, 171.72677454, 183.61502487,\n",
       "       132.55758875, 225.27987071, 201.07074639, 126.39528879,\n",
       "        69.51063093, 246.69998791, 242.31638088, 124.95006243,\n",
       "        81.08534145, 116.10404165, 205.15605813, 172.02113337,\n",
       "       172.72279911, 201.51336176, 121.36804084, 237.80297217,\n",
       "       142.62031884, 132.75139968, 191.599458  , 191.82236787,\n",
       "       176.37450547, 152.04001953, 179.07536239, 283.61244615,\n",
       "       123.27984952, 193.96552005, 242.26691977, 137.36043497,\n",
       "       150.11762453, 154.72411462, 195.14975521, 119.16094592,\n",
       "       160.66665011,  92.19380756, 164.3475108 , 150.52675944,\n",
       "       169.42790209, 176.9907208 , 116.90108932, 211.78432386,\n",
       "       162.41594069, 159.07460351, 157.03101128, 193.50492526,\n",
       "       127.57795713, 148.58519888, 208.50547591, 193.26099089,\n",
       "       126.70239746, 156.40820063, 146.61590006, 120.76544153,\n",
       "        92.65626595,  95.74887194, 176.46364994,  96.09530397,\n",
       "       106.70068061, 115.02285594, 171.52852744, 264.625614  ,\n",
       "       205.12858717, 146.83089207, 257.13162816, 191.63025509,\n",
       "       119.91050068])"
      ]
     },
     "execution_count": 47,
     "metadata": {},
     "output_type": "execute_result"
    }
   ],
   "source": [
    "y_pred=sgd.predict(x_test)\n",
    "y_pred"
   ]
  },
  {
   "cell_type": "code",
   "execution_count": 48,
   "id": "4460e3a8",
   "metadata": {},
   "outputs": [
    {
     "data": {
      "text/plain": [
       "0.43010856580711687"
      ]
     },
     "execution_count": 48,
     "metadata": {},
     "output_type": "execute_result"
    }
   ],
   "source": [
    "r2_score(y_test,y_pred)"
   ]
  },
  {
   "cell_type": "code",
   "execution_count": null,
   "id": "1059acfa",
   "metadata": {},
   "outputs": [],
   "source": []
  }
 ],
 "metadata": {
  "kernelspec": {
   "display_name": "Python 3 (ipykernel)",
   "language": "python",
   "name": "python3"
  },
  "language_info": {
   "codemirror_mode": {
    "name": "ipython",
    "version": 3
   },
   "file_extension": ".py",
   "mimetype": "text/x-python",
   "name": "python",
   "nbconvert_exporter": "python",
   "pygments_lexer": "ipython3",
   "version": "3.9.13"
  }
 },
 "nbformat": 4,
 "nbformat_minor": 5
}
